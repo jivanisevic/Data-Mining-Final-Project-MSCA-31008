{
 "cells": [
  {
   "cell_type": "markdown",
   "metadata": {
    "colab_type": "text",
    "id": "ZA7ixAGtwRa0"
   },
   "source": [
    "## Key words matrix takes forever to make, so just download the csv from drive and load it in instead of going through the code."
   ]
  },
  {
   "cell_type": "code",
   "execution_count": 2,
   "metadata": {
    "colab": {},
    "colab_type": "code",
    "id": "8qumhai_wRa1",
    "outputId": "bbd73080-9606-48ee-989b-4582669c5b8a"
   },
   "outputs": [
    {
     "name": "stdout",
     "output_type": "stream",
     "text": [
      "Requirement already satisfied: lightfm in c:\\users\\cnaka\\anaconda3\\lib\\site-packages (1.15)\n",
      "Requirement already satisfied: scipy>=0.17.0 in c:\\users\\cnaka\\anaconda3\\lib\\site-packages (from lightfm) (1.3.1)\n",
      "Requirement already satisfied: numpy in c:\\users\\cnaka\\anaconda3\\lib\\site-packages (from lightfm) (1.16.5)\n",
      "Requirement already satisfied: requests in c:\\users\\cnaka\\anaconda3\\lib\\site-packages (from lightfm) (2.22.0)\n",
      "Requirement already satisfied: idna<2.9,>=2.5 in c:\\users\\cnaka\\anaconda3\\lib\\site-packages (from requests->lightfm) (2.8)\n",
      "Requirement already satisfied: certifi>=2017.4.17 in c:\\users\\cnaka\\anaconda3\\lib\\site-packages (from requests->lightfm) (2019.9.11)\n",
      "Requirement already satisfied: urllib3!=1.25.0,!=1.25.1,<1.26,>=1.21.1 in c:\\users\\cnaka\\anaconda3\\lib\\site-packages (from requests->lightfm) (1.24.2)\n",
      "Requirement already satisfied: chardet<3.1.0,>=3.0.2 in c:\\users\\cnaka\\anaconda3\\lib\\site-packages (from requests->lightfm) (3.0.4)\n"
     ]
    }
   ],
   "source": [
    "!pip install lightfm"
   ]
  },
  {
   "cell_type": "code",
   "execution_count": 2,
   "metadata": {
    "colab": {},
    "colab_type": "code",
    "id": "HDY10RR4wRa6"
   },
   "outputs": [],
   "source": [
    "import pandas as pd\n",
    "import numpy as np\n",
    "import gzip\n",
    "import json\n",
    "import re\n",
    "import matplotlib.pyplot as plt\n",
    "from rake_nltk import Rake"
   ]
  },
  {
   "cell_type": "markdown",
   "metadata": {
    "colab_type": "text",
    "id": "BeP1BI49wRa9"
   },
   "source": [
    "# Use Rake to parse metadata for keywords"
   ]
  },
  {
   "cell_type": "code",
   "execution_count": 33,
   "metadata": {
    "colab": {},
    "colab_type": "code",
    "id": "NypU1E_7wRbA"
   },
   "outputs": [],
   "source": [
    "def parse(path):\n",
    "    g = gzip.open(path, 'rb')\n",
    "    for l in g:\n",
    "        yield json.loads(l)\n",
    "\n",
    "def getDF(path):\n",
    "    i = 0\n",
    "    df = {}\n",
    "    for d in parse(path):\n",
    "        df[i] = d\n",
    "        i += 1\n",
    "    return pd.DataFrame.from_dict(df, orient='index')\n",
    "\n",
    "df = getDF('meta_Luxury_Beauty.json.gz')"
   ]
  },
  {
   "cell_type": "markdown",
   "metadata": {
    "colab_type": "text",
    "id": "L4L3SHVAwRbD"
   },
   "source": [
    "## Cleaning"
   ]
  },
  {
   "cell_type": "code",
   "execution_count": 5,
   "metadata": {
    "colab": {},
    "colab_type": "code",
    "id": "PmAT2-y6wRbG"
   },
   "outputs": [],
   "source": [
    "#remove NaN from description\n",
    "df.loc[df['description'].isna(),'description']=\"\""
   ]
  },
  {
   "cell_type": "code",
   "execution_count": 6,
   "metadata": {},
   "outputs": [],
   "source": [
    "#remove NaN from title\n",
    "df.loc[df['title'].isna(),'title']=\"\""
   ]
  },
  {
   "cell_type": "code",
   "execution_count": 7,
   "metadata": {},
   "outputs": [],
   "source": [
    "#remove NaN from price\n",
    "df.loc[df['price'].isna(),'price']=\"\""
   ]
  },
  {
   "cell_type": "code",
   "execution_count": 8,
   "metadata": {},
   "outputs": [],
   "source": [
    "#create description string\n",
    "for idx,i in enumerate(df['description']): \n",
    "    df.loc[idx,'description'] = ' '.join([str(elem) for elem in i])+df.loc[idx,'title']\n"
   ]
  },
  {
   "cell_type": "code",
   "execution_count": 9,
   "metadata": {},
   "outputs": [],
   "source": [
    "df['key_desc'] = \"\"\n",
    "#use rake to get keywords from game description+title\n",
    "for index, row in df.iterrows():\n",
    "    # instantiating Rake, by default it uses english stopwords from NLTK\n",
    "    # and discards all puntuation characters as well\n",
    "    r = Rake()\n",
    "    summary = str(row['description'])\n",
    "    # extracting the words by passing the text\n",
    "    r.extract_keywords_from_text(summary)\n",
    "\n",
    "    # getting the dictionary whith key words as keys and their scores as values\n",
    "    key_words_dict_scores = r.get_word_degrees()\n",
    "    a=list(key_words_dict_scores.keys())\n",
    "    # assigning the key words to the new column for the corresponding movie\n",
    "    df.at[index,'key_desc']= a"
   ]
  },
  {
   "cell_type": "code",
   "execution_count": 10,
   "metadata": {},
   "outputs": [],
   "source": [
    "#create description string\n",
    "for idx,i in enumerate(df['key_desc']): \n",
    "    df.loc[idx,'key_desc'] = ' '.join([str(elem) for elem in i])"
   ]
  },
  {
   "cell_type": "code",
   "execution_count": 11,
   "metadata": {},
   "outputs": [],
   "source": [
    "df=df[['asin','key_desc']]"
   ]
  },
  {
   "cell_type": "markdown",
   "metadata": {
    "colab_type": "text",
    "id": "TSHB6_sPwRbh"
   },
   "source": [
    "# Fit a LightFM Model"
   ]
  },
  {
   "cell_type": "markdown",
   "metadata": {
    "colab_type": "text",
    "id": "XWZ6qKwIwRbk"
   },
   "source": [
    "## Create Dataset for Model"
   ]
  },
  {
   "cell_type": "code",
   "execution_count": 12,
   "metadata": {
    "colab": {},
    "colab_type": "code",
    "id": "WcGDJynDwRbl"
   },
   "outputs": [],
   "source": [
    "\n",
    "\n",
    "#get reviews\n",
    "def parse(path):\n",
    "    g = gzip.open(path, 'rb')\n",
    "    for l in g:\n",
    "        yield json.loads(l)\n",
    "\n",
    "def getDF(path):\n",
    "    i = 0\n",
    "    df = {}\n",
    "    for d in parse(path):\n",
    "        df[i] = d\n",
    "        i += 1\n",
    "    return pd.DataFrame.from_dict(df, orient='index')"
   ]
  },
  {
   "cell_type": "code",
   "execution_count": 13,
   "metadata": {},
   "outputs": [],
   "source": [
    "df2 = getDF('Luxury_Beauty_5.json.gz')"
   ]
  },
  {
   "cell_type": "code",
   "execution_count": 14,
   "metadata": {},
   "outputs": [],
   "source": [
    "#append key words field to main datset\n",
    "df2=df2.merge(df,on='asin')"
   ]
  },
  {
   "cell_type": "code",
   "execution_count": 15,
   "metadata": {},
   "outputs": [],
   "source": [
    "#create vectorized matrix from the bag of words\n",
    "df3=df2[['asin','key_desc']].drop_duplicates()\n",
    "df3=df3.set_index('asin')\n",
    "from sklearn.feature_extraction.text import CountVectorizer\n",
    "count = CountVectorizer()\n",
    "item_features = count.fit_transform(df3['key_desc'])\n",
    "indices = pd.Series(df3.index)"
   ]
  },
  {
   "cell_type": "code",
   "execution_count": 16,
   "metadata": {},
   "outputs": [],
   "source": [
    "#comupte pairwise similarity between items\n",
    "from sklearn.metrics.pairwise import cosine_similarity\n",
    "cosine_sim = cosine_similarity(item_features, item_features)\n"
   ]
  },
  {
   "cell_type": "code",
   "execution_count": 17,
   "metadata": {},
   "outputs": [],
   "source": [
    "#Flag 10 most similar items for each item\n",
    "x=np.zeros((1577,1577))\n",
    "for i in range(0,1577):\n",
    "    score_series = pd.Series(cosine_sim[i]).sort_values(ascending = False)\n",
    "    top_10_indexes = list(score_series.iloc[1:11].index)\n",
    "    for j in top_10_indexes:\n",
    "        x[i,j]=1\n"
   ]
  },
  {
   "cell_type": "code",
   "execution_count": 18,
   "metadata": {},
   "outputs": [],
   "source": [
    "#use neighborhoods matrix to create 100 clusters to pass into model as item features\n",
    "from sklearn.cluster import KMeans\n",
    "model = KMeans(n_clusters = 100).fit(x)\n",
    "clusters = model.labels_\n",
    "clus=pd.DataFrame(clusters,columns=['Cluster'])\n",
    "clus['asin']=indices\n",
    "df2=df2.merge(clus,on='asin')"
   ]
  },
  {
   "cell_type": "code",
   "execution_count": 19,
   "metadata": {
    "colab": {},
    "colab_type": "code",
    "id": "HP5g8A3KwRbm",
    "outputId": "11ade6cc-6f08-4482-a1cf-c3ae8b183a53"
   },
   "outputs": [
    {
     "name": "stderr",
     "output_type": "stream",
     "text": [
      "C:\\Users\\cnaka\\Anaconda3\\lib\\site-packages\\lightfm\\_lightfm_fast.py:9: UserWarning: LightFM was compiled without OpenMP support. Only a single thread will be used.\n",
      "  warnings.warn('LightFM was compiled without OpenMP support. '\n"
     ]
    }
   ],
   "source": [
    "#fit reviewer and game id to dataset\n",
    "from lightfm.data import Dataset\n",
    "dataset=Dataset()\n",
    "dataset.fit(df2.reviewerID.values,df2.asin.values)\n",
    "dataset.fit_partial(items=clus.asin.values,item_features=clus.Cluster.values)"
   ]
  },
  {
   "cell_type": "code",
   "execution_count": 20,
   "metadata": {
    "colab": {},
    "colab_type": "code",
    "id": "WrBF30BUwRbo"
   },
   "outputs": [],
   "source": [
    "#create tuple of user and item for interactions fitting\n",
    "user_sub = df2[['reviewerID', 'asin']]\n",
    "user_tuples = [tuple(x) for x in user_sub.values]\n",
    "item_sub = clus[['asin','Cluster']]\n",
    "item_tuples = []\n",
    "for i in range(0,len(clus['asin'])):\n",
    "    item_tuples.append((clus.loc[i,'asin'],[clus.loc[i,'Cluster']]))"
   ]
  },
  {
   "cell_type": "code",
   "execution_count": 21,
   "metadata": {
    "colab": {},
    "colab_type": "code",
    "id": "yB-743vEwRbp"
   },
   "outputs": [],
   "source": [
    "#create interactions matrix\n",
    "(interactions,weights) = dataset.build_interactions(user_tuples)\n",
    "item_features = dataset.build_item_features(item_tuples)"
   ]
  },
  {
   "cell_type": "code",
   "execution_count": 22,
   "metadata": {
    "colab": {},
    "colab_type": "code",
    "id": "zu75MIrEwRbr"
   },
   "outputs": [],
   "source": [
    "#remove duplicates\n",
    "from scipy.sparse import csr_matrix,coo_matrix\n",
    "interactions = csr_matrix(interactions)\n",
    "interactions = coo_matrix(interactions)"
   ]
  },
  {
   "cell_type": "code",
   "execution_count": 23,
   "metadata": {},
   "outputs": [
    {
     "data": {
      "text/plain": [
       "<1577x1677 sparse matrix of type '<class 'numpy.float32'>'\n",
       "\twith 3154 stored elements in Compressed Sparse Row format>"
      ]
     },
     "execution_count": 23,
     "metadata": {},
     "output_type": "execute_result"
    }
   ],
   "source": [
    "item_features"
   ]
  },
  {
   "cell_type": "markdown",
   "metadata": {
    "colab_type": "text",
    "id": "kn_0mK_mwRbu"
   },
   "source": [
    "## Fit Collaborative Only Model"
   ]
  },
  {
   "cell_type": "code",
   "execution_count": 24,
   "metadata": {
    "colab": {},
    "colab_type": "code",
    "id": "az1tBv6mwRbv"
   },
   "outputs": [],
   "source": [
    "#create training split\n",
    "from lightfm.cross_validation import random_train_test_split\n",
    "train, test = random_train_test_split(interactions, test_percentage=0.2, random_state=np.random.RandomState(seed=300))"
   ]
  },
  {
   "cell_type": "code",
   "execution_count": 46,
   "metadata": {
    "colab": {},
    "colab_type": "code",
    "id": "9Z8OQdWgwRbw"
   },
   "outputs": [],
   "source": [
    "#model creation\n",
    "from lightfm import LightFM\n",
    "# Define a new model instance\n",
    "model = LightFM(loss='warp',\n",
    "                no_components=40)\n",
    "\n",
    "# Fit the hybrid model, remember to pass in item features.\n",
    "model = model.fit(train,\n",
    "                #item_features=item_features,\n",
    "                epochs=20,\n",
    "                num_threads=4)"
   ]
  },
  {
   "cell_type": "code",
   "execution_count": 26,
   "metadata": {
    "colab": {},
    "colab_type": "code",
    "id": "9iJPnVxbwRb0",
    "outputId": "07e91ba4-e5e0-490e-8788-0f01c611727e"
   },
   "outputs": [
    {
     "name": "stdout",
     "output_type": "stream",
     "text": [
      "Collaborative training set AUC: 0.9979415\n",
      "Collaborative test set AUC: 0.83832663\n",
      "Train Precision @ K: 0.6169643402099609\n",
      "Test Precision @ K: 0.06284875422716141\n"
     ]
    }
   ],
   "source": [
    "#evaluate training AUC\n",
    "from lightfm.evaluation import auc_score\n",
    "# Don't forget the pass in the item features again!\n",
    "train_auc = auc_score(model,\n",
    "                      train,\n",
    "                      #item_features=item_features\n",
    "                     ).mean()\n",
    "print('Collaborative training set AUC: %s' % train_auc)\n",
    "#evaluate test set AUC\n",
    "test_auc = auc_score(model,\n",
    "                    test,\n",
    "                    train_interactions=train,\n",
    "                    #item_features=item_features\n",
    "                    ).mean()\n",
    "print('Collaborative test set AUC: %s' % test_auc)\n",
    "#Training Precision@K\n",
    "from lightfm.evaluation import precision_at_k\n",
    "\n",
    "train_precision = precision_at_k(model, train, #item_features=item_features, \n",
    "                                 k=5).mean()\n",
    "\n",
    "print(\"Train Precision @ K: {}\".format(train_precision))\n",
    "#Test Precision@K\n",
    "\n",
    "test_precision = precision_at_k(model, test, #item_features=item_features,\n",
    "                                k=5).mean()\n",
    "\n",
    "print(\"Test Precision @ K: {}\".format(test_precision))"
   ]
  },
  {
   "cell_type": "markdown",
   "metadata": {},
   "source": [
    "## Fit Hybrid Model"
   ]
  },
  {
   "cell_type": "code",
   "execution_count": 42,
   "metadata": {},
   "outputs": [],
   "source": [
    "#model creation\n",
    "from lightfm import LightFM\n",
    "# Define a new model instance\n",
    "model = LightFM(loss='warp',no_components=40)\n",
    "\n",
    "# Fit the hybrid model, remember to pass in item features.\n",
    "model = model.fit(train,\n",
    "                item_features=item_features,\n",
    "                epochs=20,\n",
    "                num_threads=6)"
   ]
  },
  {
   "cell_type": "code",
   "execution_count": 28,
   "metadata": {},
   "outputs": [
    {
     "name": "stdout",
     "output_type": "stream",
     "text": [
      "Hybrid training set AUC: 0.9895915\n",
      "Hybrid test set AUC: 0.8662932\n",
      "Train Precision @ K: 0.3596639037132263\n",
      "Test Precision @ K: 0.07400881499052048\n"
     ]
    }
   ],
   "source": [
    "#evaluate training AUC\n",
    "from lightfm.evaluation import auc_score\n",
    "# Don't forget the pass in the item features again!\n",
    "train_auc = auc_score(model,\n",
    "                      train,\n",
    "                      item_features=item_features\n",
    "                     ).mean()\n",
    "print('Hybrid training set AUC: %s' % train_auc)\n",
    "#evaluate test set AUC\n",
    "test_auc = auc_score(model,\n",
    "                    test,\n",
    "                    train_interactions=train,\n",
    "                    item_features=item_features\n",
    "                    ).mean()\n",
    "print('Hybrid test set AUC: %s' % test_auc)\n",
    "#Training Precision@K\n",
    "from lightfm.evaluation import precision_at_k\n",
    "\n",
    "train_precision = precision_at_k(model, train, item_features=item_features, \n",
    "                                 k=5).mean()\n",
    "\n",
    "print(\"Train Precision @ K: {}\".format(train_precision))\n",
    "#Test Precision@K\n",
    "\n",
    "test_precision = precision_at_k(model, test, item_features=item_features,\n",
    "                                k=5).mean()\n",
    "\n",
    "print(\"Test Precision @ K: {}\".format(test_precision))"
   ]
  },
  {
   "cell_type": "code",
   "execution_count": 29,
   "metadata": {},
   "outputs": [],
   "source": [
    "def cross_validate(test_percentage,k):\n",
    "    test_precision = []\n",
    "    for i in range(0,10): \n",
    "        train, test = random_train_test_split(interactions, test_percentage=test_percentage,random_state=np.random.RandomState(seed=i))\n",
    "        # Define a new model instance\n",
    "        model = LightFM(loss='warp',no_components=40)\n",
    "        model = model.fit(train,\n",
    "                item_features=item_features,\n",
    "                epochs=20,\n",
    "                num_threads=6)\n",
    "        test_precision.append(precision_at_k(model, test, item_features=item_features,\n",
    "                                k=5).mean()*100)\n",
    "    fig, ax = plt.subplots(figsize=(10,6))\n",
    "    ax.plot(test_precision,label='')\n",
    "    ax.set_title('Test Sample Precision at K')\n",
    "    ax.set_ylabel('Precision %')\n",
    "    ax.set_xlabel('Fold')\n",
    "    test_precision = []\n",
    "    for i in range(0,10): \n",
    "        train, test = random_train_test_split(interactions, test_percentage=test_percentage,random_state=np.random.RandomState(seed=i))\n",
    "        # Define a new model instance\n",
    "        model = LightFM(loss='warp',no_components=40)\n",
    "        model = model.fit(train,\n",
    "                #item_features=item_features,\n",
    "                epochs=20,\n",
    "                num_threads=6)\n",
    "        test_precision.append(precision_at_k(model, test, #item_features=item_features,\n",
    "                                k=5).mean()*100)\n",
    "    ax.plot(test_precision)\n",
    "    ax.legend(['Hybrid Model','Collaborative Model'])"
   ]
  },
  {
   "cell_type": "code",
   "execution_count": 30,
   "metadata": {},
   "outputs": [
    {
     "data": {
      "image/png": "[encoded data removed]",
      "text/plain": [
       "<Figure size 720x432 with 1 Axes>"
      ]
     },
     "metadata": {
      "needs_background": "light"
     },
     "output_type": "display_data"
    }
   ],
   "source": [
    "cross_validate(.2,10)"
   ]
  },
  {
   "cell_type": "markdown",
   "metadata": {},
   "source": [
    "## Generate Recommendations"
   ]
  },
  {
   "cell_type": "code",
   "execution_count": 31,
   "metadata": {},
   "outputs": [],
   "source": [
    "def rec(ids):\n",
    "    pred = model.predict(user_ids=ids,item_ids=list(dataset.mapping()[2].values()))\n",
    "    l=list(zip(list(dataset.mapping()[2].keys()),list(pred)))\n",
    "    pred_df = pd.DataFrame(l,columns = ['asin','recommendation_scores'])\n",
    "    pred_df = pred_df.sort_values(\"recommendation_scores\",ascending=False)\n",
    "    return pred_df"
   ]
  },
  {
   "cell_type": "code",
   "execution_count": null,
   "metadata": {},
   "outputs": [],
   "source": [
    "def parse(path):\n",
    "    g = gzip.open(path, 'rb')\n",
    "    for l in g:\n",
    "        yield json.loads(l)\n",
    "\n",
    "def getDF(path):\n",
    "    i = 0\n",
    "    df = {}\n",
    "    for d in parse(path):\n",
    "        df[i] = d\n",
    "        i += 1\n",
    "    return pd.DataFrame.from_dict(df, orient='index')\n",
    "\n",
    "df = getDF('meta_Luxury_Beauty.json.gz')"
   ]
  },
  {
   "cell_type": "code",
   "execution_count": 47,
   "metadata": {},
   "outputs": [
    {
     "data": {
      "text/html": [
       "<div>\n",
       "<style scoped>\n",
       "    .dataframe tbody tr th:only-of-type {\n",
       "        vertical-align: middle;\n",
       "    }\n",
       "\n",
       "    .dataframe tbody tr th {\n",
       "        vertical-align: top;\n",
       "    }\n",
       "\n",
       "    .dataframe thead th {\n",
       "        text-align: right;\n",
       "    }\n",
       "</style>\n",
       "<table border=\"1\" class=\"dataframe\">\n",
       "  <thead>\n",
       "    <tr style=\"text-align: right;\">\n",
       "      <th></th>\n",
       "      <th>title</th>\n",
       "      <th>recommendation_scores</th>\n",
       "    </tr>\n",
       "  </thead>\n",
       "  <tbody>\n",
       "    <tr>\n",
       "      <td>0</td>\n",
       "      <td>L&amp;#39;Occitane 20% Shea Butter Hand Cream, 5....</td>\n",
       "      <td>2.171483</td>\n",
       "    </tr>\n",
       "    <tr>\n",
       "      <td>1</td>\n",
       "      <td>L'Occitane 15% Shea Butter Foot Cream Enriched...</td>\n",
       "      <td>1.417230</td>\n",
       "    </tr>\n",
       "    <tr>\n",
       "      <td>2</td>\n",
       "      <td>Mustela Baby Wipes, Unscented</td>\n",
       "      <td>1.068356</td>\n",
       "    </tr>\n",
       "    <tr>\n",
       "      <td>3</td>\n",
       "      <td>DERMASURI Rice Milk Brightening Face Exfoliato...</td>\n",
       "      <td>0.873441</td>\n",
       "    </tr>\n",
       "    <tr>\n",
       "      <td>4</td>\n",
       "      <td>Dermablend Smooth Liquid Foundation with SPF 2...</td>\n",
       "      <td>0.849193</td>\n",
       "    </tr>\n",
       "    <tr>\n",
       "      <td>5</td>\n",
       "      <td>Mustela 1.2.3. Diaper Rash Cream, Baby Skin Pr...</td>\n",
       "      <td>0.844605</td>\n",
       "    </tr>\n",
       "    <tr>\n",
       "      <td>6</td>\n",
       "      <td>La Roche-Posay Thermal Spring Water for Sensit...</td>\n",
       "      <td>0.777537</td>\n",
       "    </tr>\n",
       "    <tr>\n",
       "      <td>8</td>\n",
       "      <td>L&amp;#39;Occitane Cleansing &amp;amp; Softening Almo...</td>\n",
       "      <td>0.759642</td>\n",
       "    </tr>\n",
       "    <tr>\n",
       "      <td>9</td>\n",
       "      <td>Meaningful Beauty Vitality Oil</td>\n",
       "      <td>0.672057</td>\n",
       "    </tr>\n",
       "    <tr>\n",
       "      <td>10</td>\n",
       "      <td>Obagi Professional-C Serum, 1 fl. oz.</td>\n",
       "      <td>0.667480</td>\n",
       "    </tr>\n",
       "  </tbody>\n",
       "</table>\n",
       "</div>"
      ],
      "text/plain": [
       "                                                title  recommendation_scores\n",
       "0    L&#39;Occitane 20% Shea Butter Hand Cream, 5....               2.171483\n",
       "1   L'Occitane 15% Shea Butter Foot Cream Enriched...               1.417230\n",
       "2                       Mustela Baby Wipes, Unscented               1.068356\n",
       "3   DERMASURI Rice Milk Brightening Face Exfoliato...               0.873441\n",
       "4   Dermablend Smooth Liquid Foundation with SPF 2...               0.849193\n",
       "5   Mustela 1.2.3. Diaper Rash Cream, Baby Skin Pr...               0.844605\n",
       "6   La Roche-Posay Thermal Spring Water for Sensit...               0.777537\n",
       "8    L&#39;Occitane Cleansing &amp; Softening Almo...               0.759642\n",
       "9                      Meaningful Beauty Vitality Oil               0.672057\n",
       "10              Obagi Professional-C Serum, 1 fl. oz.               0.667480"
      ]
     },
     "execution_count": 47,
     "metadata": {},
     "output_type": "execute_result"
    }
   ],
   "source": [
    "#Find Predictions for User\n",
    "preds = rec(700)\n",
    "preds = preds.merge(df[['asin','title']],on='asin').drop_duplicates().iloc[0:10,:]\n",
    "preds[['title','recommendation_scores']]"
   ]
  },
  {
   "cell_type": "code",
   "execution_count": 50,
   "metadata": {},
   "outputs": [
    {
     "data": {
      "text/html": [
       "<div>\n",
       "<style scoped>\n",
       "    .dataframe tbody tr th:only-of-type {\n",
       "        vertical-align: middle;\n",
       "    }\n",
       "\n",
       "    .dataframe tbody tr th {\n",
       "        vertical-align: top;\n",
       "    }\n",
       "\n",
       "    .dataframe thead th {\n",
       "        text-align: right;\n",
       "    }\n",
       "</style>\n",
       "<table border=\"1\" class=\"dataframe\">\n",
       "  <thead>\n",
       "    <tr style=\"text-align: right;\">\n",
       "      <th></th>\n",
       "      <th>title</th>\n",
       "    </tr>\n",
       "  </thead>\n",
       "  <tbody>\n",
       "    <tr>\n",
       "      <td>8</td>\n",
       "      <td>La Roche-Posay Serozinc Face Toner for Oily Sk...</td>\n",
       "    </tr>\n",
       "    <tr>\n",
       "      <td>9</td>\n",
       "      <td>Hampton Sun SPF 15 Super Hydrating Face Cream,...</td>\n",
       "    </tr>\n",
       "    <tr>\n",
       "      <td>10</td>\n",
       "      <td>L'Occitane Best of Collection</td>\n",
       "    </tr>\n",
       "    <tr>\n",
       "      <td>11</td>\n",
       "      <td>L'Occitane Luxurious Divine Star</td>\n",
       "    </tr>\n",
       "    <tr>\n",
       "      <td>12</td>\n",
       "      <td>SKIN&amp;amp;CO Roma Truffle Therapy Serum, 1.0 fl...</td>\n",
       "    </tr>\n",
       "    <tr>\n",
       "      <td>13</td>\n",
       "      <td>Obliphica Professional Seaberry Moisture Cream...</td>\n",
       "    </tr>\n",
       "    <tr>\n",
       "      <td>14</td>\n",
       "      <td>Mustela Baby Wipes, Unscented</td>\n",
       "    </tr>\n",
       "  </tbody>\n",
       "</table>\n",
       "</div>"
      ],
      "text/plain": [
       "                                                title\n",
       "8   La Roche-Posay Serozinc Face Toner for Oily Sk...\n",
       "9   Hampton Sun SPF 15 Super Hydrating Face Cream,...\n",
       "10                      L'Occitane Best of Collection\n",
       "11                   L'Occitane Luxurious Divine Star\n",
       "12  SKIN&amp;CO Roma Truffle Therapy Serum, 1.0 fl...\n",
       "13  Obliphica Professional Seaberry Moisture Cream...\n",
       "14                      Mustela Baby Wipes, Unscented"
      ]
     },
     "execution_count": 50,
     "metadata": {},
     "output_type": "execute_result"
    }
   ],
   "source": [
    "#COmpare with Reviewed Items\n",
    "pd.DataFrame(df2[df2['reviewerID']==list(dataset.mapping()[0].keys())[700]].merge(df[['asin','title']],on='asin')['title']).iloc[8:15,:]"
   ]
  },
  {
   "cell_type": "markdown",
   "metadata": {},
   "source": [
    "## Segmented Customer Analysis"
   ]
  },
  {
   "cell_type": "code",
   "execution_count": 3,
   "metadata": {},
   "outputs": [],
   "source": [
    "# Import subsets based on previous analysis \n",
    "subsets = pd.read_csv(\"customer_segments.csv\")\n",
    "subsets=subsets.drop(columns=['cent'])\n",
    "subsets=subsets.set_index('Unnamed: 0')\n",
    "graysheep=subsets.index[subsets['group'] == 'gray_sheep'].tolist()\n",
    "typical=subsets.index[subsets['group'] == 'typical_customer'].tolist()\n",
    "cold_start=subsets.index[subsets['group'] == 'cold_start'].tolist()"
   ]
  },
  {
   "cell_type": "code",
   "execution_count": null,
   "metadata": {},
   "outputs": [],
   "source": [
    "# Create test set for \"Gray Sheep\"\n",
    "\n",
    "x=[dataset.mapping()[0][I] for I in graysheep]\n",
    "x.sort()\n",
    "len(x)\n",
    "\n",
    "idx =[]\n",
    "for i in test.row:\n",
    "    idx.append(i in x)\n",
    "shape = test.shape\n",
    "uids, iids, data = (test.row,\n",
    "                    test.col,\n",
    "                    test.data)\n",
    "\n",
    "graysheep_test=coo_matrix((data[idx],\n",
    "                           (uids[idx],\n",
    "                            iids[idx])),\n",
    "                          shape=shape,\n",
    "                          dtype=interactions.dtype)"
   ]
  },
  {
   "cell_type": "code",
   "execution_count": null,
   "metadata": {},
   "outputs": [],
   "source": [
    "# Create test set for \"Typical Customers\"\n",
    "\n",
    "x=[dataset.mapping()[0][I] for I in typical]\n",
    "x.sort()\n",
    "len(x)\n",
    "\n",
    "idx =[]\n",
    "for i in test.row:\n",
    "    idx.append(i in x)\n",
    "shape = test.shape\n",
    "uids, iids, data = (test.row,\n",
    "                    test.col,\n",
    "                    test.data)\n",
    "\n",
    "typicaluser_test=coo_matrix((data[idx],\n",
    "                           (uids[idx],\n",
    "                            iids[idx])),\n",
    "                          shape=shape,\n",
    "                          dtype=interactions.dtype)"
   ]
  },
  {
   "cell_type": "markdown",
   "metadata": {},
   "source": [
    "Now can go through model fitting process above to run on test populations with only certain customer segments"
   ]
  },
  {
   "cell_type": "code",
   "execution_count": null,
   "metadata": {},
   "outputs": [],
   "source": []
  }
 ],
 "metadata": {
  "colab": {
   "name": "LightFM Model w Metadata Content.ipynb",
   "provenance": []
  },
  "kernelspec": {
   "display_name": "Python 3",
   "language": "python",
   "name": "python3"
  },
  "language_info": {
   "codemirror_mode": {
    "name": "ipython",
    "version": 3
   },
   "file_extension": ".py",
   "mimetype": "text/x-python",
   "name": "python",
   "nbconvert_exporter": "python",
   "pygments_lexer": "ipython3",
   "version": "3.7.4"
  }
 },
 "nbformat": 4,
 "nbformat_minor": 1
}
